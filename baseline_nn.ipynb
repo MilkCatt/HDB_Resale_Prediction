{
 "cells": [
  {
   "cell_type": "code",
   "execution_count": 9,
   "metadata": {},
   "outputs": [],
   "source": [
    "# Matplotlib\n",
    "import matplotlib.pyplot as plt\n",
    "from matplotlib.lines import Line2D\n",
    "# Numpy\n",
    "import numpy as np\n",
    "# Pandas\n",
    "import pandas as pd\n",
    "# Torch\n",
    "import torch\n",
    "import torch.nn as nn\n",
    "from torch.utils.data import Dataset, DataLoader\n",
    "from torchmetrics.classification import BinaryAccuracy\n",
    "from torchsummary import summary\n"
   ]
  },
  {
   "cell_type": "code",
   "execution_count": 10,
   "metadata": {},
   "outputs": [
    {
     "name": "stdout",
     "output_type": "stream",
     "text": [
      "MPS is available\n",
      "mps\n"
     ]
    }
   ],
   "source": [
    "# Define device for torch\n",
    "device = torch.device(\"cpu\")\n",
    "# MPS for Apple Silicon GPUs\n",
    "if torch.mps.is_available():\n",
    "   print(\"MPS is available\")\n",
    "   device = torch.device(\"mps\")\n",
    "\n",
    "# CUDA for Nvidia GPUs\n",
    "if torch.cuda.is_available():\n",
    "   print(\"CUDA is available\")\n",
    "   device = torch.device(\"cuda\")\n",
    "print(device)"
   ]
  },
  {
   "cell_type": "markdown",
   "metadata": {},
   "source": [
    "# Creating Dataset & Dataloader Objects"
   ]
  },
  {
   "cell_type": "code",
   "execution_count": 11,
   "metadata": {},
   "outputs": [],
   "source": [
    "class HDBDataset(Dataset):\n",
    "    def __init__(self, csv_path):\n",
    "        self.dataframe = pd.read_csv(csv_path)\n",
    "        \n",
    "    def __len__(self):\n",
    "        return len(self.dataframe)\n",
    "    \n",
    "    def __getitem__(self, idx):\n",
    "        # Extract target from index 3\n",
    "        target = self.dataframe.iloc[idx, 3]  \n",
    "        \n",
    "        # Extract all other columns *except* the target column (drop index 3)\n",
    "        features = self.dataframe.drop(columns=self.dataframe.columns[3]).iloc[idx].values\n",
    "        \n",
    "        # Convert to PyTorch tensors\n",
    "        features = torch.tensor(features, dtype=torch.float32)\n",
    "        target = torch.tensor(target, dtype=torch.float32)\n",
    "        \n",
    "        return features, target"
   ]
  },
  {
   "cell_type": "code",
   "execution_count": 12,
   "metadata": {},
   "outputs": [],
   "source": [
    "batch_size = 512\n",
    "\n",
    "train_dataset = HDBDataset(\"data/train_data.csv\")\n",
    "test_dataset = HDBDataset(\"data/test_data.csv\")\n",
    "valid_dataset = HDBDataset(\"data/valid_data.csv\")\n",
    "\n",
    "train_loader = DataLoader(train_dataset, batch_size=batch_size, shuffle= True)\n",
    "test_loader = DataLoader(test_dataset, batch_size=batch_size, shuffle= False)\n",
    "valid_loader = DataLoader(valid_dataset, batch_size=batch_size, shuffle= False)"
   ]
  },
  {
   "cell_type": "markdown",
   "metadata": {},
   "source": [
    "# Baseline Model 1 (BM_nn1)"
   ]
  },
  {
   "cell_type": "markdown",
   "metadata": {},
   "source": [
    "## Creating BM_nn1"
   ]
  },
  {
   "cell_type": "code",
   "execution_count": 13,
   "metadata": {},
   "outputs": [],
   "source": [
    "class HDBPricePredictor(nn.Module):\n",
    "    def __init__(self):\n",
    "        super().__init__()\n",
    "        self.input = nn.Linear(52, 128)\n",
    "        self.hidden1 = nn.Linear(128, 64)\n",
    "        self.hidden2 = nn.Linear(64, 32)\n",
    "        self.fc = nn.Linear(32, 1)\n",
    "        self.activation = nn.ReLU()\n",
    "        self.loss = nn.MSELoss()\n",
    "\n",
    "    def forward(self, x):\n",
    "        x = self.input(x)\n",
    "        x = self.activation(self.hidden1(x))\n",
    "        x = self.activation(self.hidden2(x))\n",
    "        x = self.fc(x)\n",
    "        return x"
   ]
  },
  {
   "cell_type": "code",
   "execution_count": 18,
   "metadata": {},
   "outputs": [
    {
     "name": "stdout",
     "output_type": "stream",
     "text": [
      "----------------------------------------------------------------\n",
      "        Layer (type)               Output Shape         Param #\n",
      "================================================================\n",
      "            Linear-1                  [-1, 128]           6,784\n",
      "            Linear-2                   [-1, 64]           8,256\n",
      "              ReLU-3                   [-1, 64]               0\n",
      "            Linear-4                   [-1, 32]           2,080\n",
      "              ReLU-5                   [-1, 32]               0\n",
      "            Linear-6                    [-1, 1]              33\n",
      "================================================================\n",
      "Total params: 17,153\n",
      "Trainable params: 17,153\n",
      "Non-trainable params: 0\n",
      "----------------------------------------------------------------\n",
      "Input size (MB): 0.00\n",
      "Forward/backward pass size (MB): 0.00\n",
      "Params size (MB): 0.07\n",
      "Estimated Total Size (MB): 0.07\n",
      "----------------------------------------------------------------\n"
     ]
    }
   ],
   "source": [
    "model = HDBPricePredictor().to(\"cpu\") \n",
    "\n",
    "# Summarize the model\n",
    "summary(model, input_size=(52,))\n"
   ]
  },
  {
   "cell_type": "markdown",
   "metadata": {},
   "source": [
    "## Training BM_nn1"
   ]
  },
  {
   "cell_type": "code",
   "execution_count": 43,
   "metadata": {},
   "outputs": [
    {
     "name": "stdout",
     "output_type": "stream",
     "text": [
      "Training done! Validation commencing...\n",
      "Epoch [1/10] Train Loss: 8962294784.0000 Val Loss: 9029208064.0000\n",
      "Training done! Validation commencing...\n",
      "Epoch [2/10] Train Loss: 6815178240.0000 Val Loss: 5636640768.0000\n",
      "Training done! Validation commencing...\n",
      "Epoch [3/10] Train Loss: 4508201984.0000 Val Loss: 4020889600.0000\n",
      "Training done! Validation commencing...\n",
      "Epoch [4/10] Train Loss: 4201929984.0000 Val Loss: 3768000768.0000\n",
      "Training done! Validation commencing...\n",
      "Epoch [5/10] Train Loss: 4363765248.0000 Val Loss: 2321892608.0000\n",
      "Training done! Validation commencing...\n",
      "Epoch [6/10] Train Loss: 3655617024.0000 Val Loss: 1978969216.0000\n",
      "Training done! Validation commencing...\n",
      "Epoch [7/10] Train Loss: 2863943936.0000 Val Loss: 1990138752.0000\n",
      "Training done! Validation commencing...\n",
      "Epoch [8/10] Train Loss: 2656025088.0000 Val Loss: 2058622592.0000\n",
      "Training done! Validation commencing...\n",
      "Epoch [9/10] Train Loss: 2749596672.0000 Val Loss: 2120203648.0000\n",
      "Training done! Validation commencing...\n",
      "Epoch [10/10] Train Loss: 3003593472.0000 Val Loss: 2006190464.0000\n"
     ]
    }
   ],
   "source": [
    "# Create Neural Network model\n",
    "model = HDBPricePredictor().to(device)\n",
    "\n",
    "# Gradient descent parameters: optimizers, repetitions, etc.\n",
    "num_epochs = 10\n",
    "optimizer = torch.optim.Adam(model.parameters(), \n",
    "                           lr=0.01,\n",
    "                           betas=(0.9, 0.999),\n",
    "                           eps=1e-08,\n",
    "                           weight_decay=0.00)\n",
    "optimizer.zero_grad()\n",
    "\n",
    "train_losses = []\n",
    "val_losses = []\n",
    "\n",
    "for epoch in range(num_epochs):\n",
    "    # Training loop\n",
    "    model.train()\n",
    "    # Create lists for the epoch's train accuracies\n",
    "    batch_train_losses = []\n",
    "    batch_validation_losses = []\n",
    "    for batch in train_loader:\n",
    "        # Unpack the mini-batch data\n",
    "        inputs_batch, outputs_batch = batch\n",
    "        outputs_re = outputs_batch.to(device).reshape(-1, 1)\n",
    "        inputs_re = inputs_batch.to(device)\n",
    "        \n",
    "        # Forward pass\n",
    "        pred = model(inputs_re)\n",
    "        loss_value = model.loss(pred.float(), outputs_re.float())\n",
    "    \n",
    "        # Backward pass and optimization\n",
    "        loss_value.backward()\n",
    "        optimizer.step()\n",
    "        optimizer.zero_grad()\n",
    "        \n",
    "        batch_train_losses.append(loss_value.item())\n",
    "    train_losses.append(sum(batch_train_losses)/len(batch_train_losses))\n",
    "    # Validation loop\n",
    "    model.eval()\n",
    "    \n",
    "    print(\"Training done! Validation commencing...\")\n",
    "    with torch.no_grad():\n",
    "        for batch in valid_loader:\n",
    "            inputs_batch, outputs_batch = batch\n",
    "            outputs_re = outputs_batch.to(device).reshape(-1, 1)\n",
    "            inputs_re = inputs_batch.to(device)\n",
    "            \n",
    "            pred = model(inputs_re)\n",
    "            val_loss = model.loss(pred.float(), outputs_re.float())\n",
    "            \n",
    "            batch_validation_losses.append(val_loss.item())\n",
    "        val_losses.append(sum(batch_validation_losses)/len(batch_validation_losses))\n",
    "    \n",
    "    print(f'Epoch [{epoch+1}/{num_epochs}]', f'Train Loss: {loss_value.item():.4f}',f'Val Loss: {val_loss.item():.4f}')\n",
    "    \n",
    "    # Save the model weights for each epoch\n",
    "    torch.save(model.state_dict(), f'nn_baseline_weights/model_weights_epoch_{epoch+1}.pth')"
   ]
  },
  {
   "cell_type": "markdown",
   "metadata": {},
   "source": [
    "## Evaluating BM_nn1"
   ]
  },
  {
   "cell_type": "code",
   "execution_count": 49,
   "metadata": {},
   "outputs": [
    {
     "data": {
      "image/png": "[encoded data removed]",
      "text/plain": [
       "<Figure size 1000x500 with 1 Axes>"
      ]
     },
     "metadata": {},
     "output_type": "display_data"
    }
   ],
   "source": [
    "import matplotlib.pyplot as plt\n",
    "\n",
    "epochs = range(1, num_epochs + 1)\n",
    "\n",
    "plt.figure(figsize=(10, 5))\n",
    "plt.plot(epochs, train_losses, label='Train Loss', marker='o')\n",
    "plt.title('Train Losses over Epochs')\n",
    "plt.xlabel('Epochs')\n",
    "plt.ylabel('Loss')\n",
    "plt.legend()\n",
    "plt.grid()\n",
    "plt.show()\n"
   ]
  },
  {
   "cell_type": "code",
   "execution_count": 111,
   "metadata": {},
   "outputs": [
    {
     "name": "stdout",
     "output_type": "stream",
     "text": [
      "Test Loss: 39673.2846\n"
     ]
    }
   ],
   "source": [
    "# Load the best model weights from the best performing epoch and test them\n",
    "model = HDBPricePredictor().to(device)\n",
    "model.load_state_dict(torch.load('nn_baseline_weights/model_weights_epoch_10.pth', weights_only=True))\n",
    "# Set model to evaluation mode\n",
    "model.eval()\n",
    "\n",
    "# Evaluate on test set\n",
    "test_losses = []\n",
    "\n",
    "# Initialize L1Loss function\n",
    "loss_function = nn.L1Loss()\n",
    "\n",
    "with torch.no_grad():\n",
    "    for batch in test_loader:\n",
    "        # Unpack test batch\n",
    "        inputs_batch, outputs_batch = batch\n",
    "        outputs_re = outputs_batch.to(device).reshape(-1, 1)\n",
    "        inputs_re = inputs_batch.to(device)\n",
    "        \n",
    "        # Forward pass\n",
    "        test_pred = model(inputs_re)\n",
    "        test_loss = loss_function(test_pred.float(), outputs_re.float())\n",
    "        \n",
    "        test_losses.append(test_loss.item())\n",
    "\n",
    "# Calculate average test metrics\n",
    "avg_test_loss = sum(test_losses) / len(test_losses)\n",
    "\n",
    "print(f'Test Loss: {avg_test_loss:.4f}')"
   ]
  },
  {
   "cell_type": "code",
   "execution_count": 112,
   "metadata": {},
   "outputs": [
    {
     "name": "stdout",
     "output_type": "stream",
     "text": [
      "Actual Resale Price: 670,000.00\n",
      "Predicted Resale Price: 695,856.25\n"
     ]
    }
   ],
   "source": [
    "# Select an index (e.g., the first sample)\n",
    "sample_idx = 3488 # Adjust this number to see the result for different samples\n",
    "sample_features, sample_target = test_dataset[sample_idx]\n",
    "sample_features = sample_features.to(device).unsqueeze(0)  # Add batch dimension (1, num_features)\n",
    "# Set model to evaluation mode\n",
    "model.eval()\n",
    "\n",
    "# Perform inference\n",
    "with torch.no_grad():\n",
    "    predicted_price = model(sample_features).item()  # Convert tensor to scalar\n",
    "\n",
    "print(f\"Actual Resale Price: {sample_target.item():,.2f}\")\n",
    "print(f\"Predicted Resale Price: {predicted_price:,.2f}\")\n"
   ]
  },
  {
   "cell_type": "markdown",
   "metadata": {},
   "source": [
    "# Baseline Model 2 (BM_nn2)"
   ]
  },
  {
   "cell_type": "markdown",
   "metadata": {},
   "source": [
    "## Creating BM_nn2"
   ]
  },
  {
   "cell_type": "code",
   "execution_count": 19,
   "metadata": {},
   "outputs": [],
   "source": [
    "# New model to train\n",
    "\n",
    "class HDBPricePredictor2(nn.Module):\n",
    "    def __init__(self):\n",
    "        super().__init__()\n",
    "        self.input = nn.Linear(52, 256)  # Increased neurons for better feature extraction\n",
    "        self.hidden1 = nn.Linear(256, 128)\n",
    "        self.hidden2 = nn.Linear(128, 64)\n",
    "        self.fc = nn.Linear(64, 1)\n",
    "\n",
    "        # Activation functions\n",
    "        self.activation = nn.LeakyReLU(0.01)  # More stable than ReLU\n",
    "\n",
    "        # Normalization & Dropout\n",
    "        self.bn1 = nn.BatchNorm1d(256)\n",
    "        self.bn2 = nn.BatchNorm1d(128)\n",
    "        self.bn3 = nn.BatchNorm1d(64)\n",
    "\n",
    "        self.dropout = nn.Dropout(0.1)  # Light dropout\n",
    "\n",
    "        # Use Huber Loss instead of MSE\n",
    "        self.loss = nn.SmoothL1Loss()\n",
    "\n",
    "        # Initialize weights\n",
    "        self._init_weights()\n",
    "\n",
    "    def forward(self, x):\n",
    "        x = self.input(x)\n",
    "        x = self.bn1(x)\n",
    "        x = self.activation(x)\n",
    "\n",
    "        x = self.hidden1(x)\n",
    "        x = self.bn2(x)\n",
    "        x = self.activation(x)\n",
    "        x = self.dropout(x)\n",
    "\n",
    "        x = self.hidden2(x)\n",
    "        x = self.bn3(x)\n",
    "        x = self.activation(x)\n",
    "\n",
    "        x = self.fc(x)\n",
    "        return x\n",
    "\n",
    "    def _init_weights(self):\n",
    "        for layer in [self.input, self.hidden1, self.hidden2, self.fc]:\n",
    "            nn.init.kaiming_normal_(layer.weight, nonlinearity='leaky_relu')\n",
    "            nn.init.constant_(layer.bias, 0)\n",
    "\n"
   ]
  },
  {
   "cell_type": "code",
   "execution_count": 20,
   "metadata": {},
   "outputs": [
    {
     "name": "stdout",
     "output_type": "stream",
     "text": [
      "----------------------------------------------------------------\n",
      "        Layer (type)               Output Shape         Param #\n",
      "================================================================\n",
      "            Linear-1                  [-1, 256]          13,568\n",
      "       BatchNorm1d-2                  [-1, 256]             512\n",
      "         LeakyReLU-3                  [-1, 256]               0\n",
      "            Linear-4                  [-1, 128]          32,896\n",
      "       BatchNorm1d-5                  [-1, 128]             256\n",
      "         LeakyReLU-6                  [-1, 128]               0\n",
      "           Dropout-7                  [-1, 128]               0\n",
      "            Linear-8                   [-1, 64]           8,256\n",
      "       BatchNorm1d-9                   [-1, 64]             128\n",
      "        LeakyReLU-10                   [-1, 64]               0\n",
      "           Linear-11                    [-1, 1]              65\n",
      "================================================================\n",
      "Total params: 55,681\n",
      "Trainable params: 55,681\n",
      "Non-trainable params: 0\n",
      "----------------------------------------------------------------\n",
      "Input size (MB): 0.00\n",
      "Forward/backward pass size (MB): 0.01\n",
      "Params size (MB): 0.21\n",
      "Estimated Total Size (MB): 0.22\n",
      "----------------------------------------------------------------\n"
     ]
    }
   ],
   "source": [
    "model = HDBPricePredictor2().to(\"cpu\") \n",
    "\n",
    "# Summarize the model\n",
    "summary(model, input_size=(52,))\n"
   ]
  },
  {
   "cell_type": "markdown",
   "metadata": {},
   "source": [
    "## Training Baseline Model 2"
   ]
  },
  {
   "cell_type": "code",
   "execution_count": 83,
   "metadata": {},
   "outputs": [
    {
     "name": "stdout",
     "output_type": "stream",
     "text": [
      "Training done! Validation commencing...\n",
      "Epoch [1/15] Train Loss: 514146.7812 Val Loss: 527485.5625\n",
      "Training done! Validation commencing...\n",
      "Epoch [2/15] Train Loss: 506218.6562 Val Loss: 521849.6250\n",
      "Training done! Validation commencing...\n",
      "Epoch [3/15] Train Loss: 488634.5938 Val Loss: 512848.5938\n",
      "Training done! Validation commencing...\n",
      "Epoch [4/15] Train Loss: 469675.8750 Val Loss: 500550.6875\n",
      "Training done! Validation commencing...\n",
      "Epoch [5/15] Train Loss: 468285.0312 Val Loss: 485607.0625\n",
      "Training done! Validation commencing...\n",
      "Epoch [6/15] Train Loss: 449790.5000 Val Loss: 468632.2812\n",
      "Training done! Validation commencing...\n",
      "Epoch [7/15] Train Loss: 441892.2812 Val Loss: 448612.6875\n",
      "Training done! Validation commencing...\n",
      "Epoch [8/15] Train Loss: 427641.9688 Val Loss: 426918.3750\n",
      "Training done! Validation commencing...\n",
      "Epoch [9/15] Train Loss: 382074.6875 Val Loss: 402831.5312\n",
      "Training done! Validation commencing...\n",
      "Epoch [10/15] Train Loss: 393552.6250 Val Loss: 376463.5000\n",
      "Training done! Validation commencing...\n",
      "Epoch [11/15] Train Loss: 346109.0625 Val Loss: 348706.8438\n",
      "Training done! Validation commencing...\n",
      "Epoch [12/15] Train Loss: 318881.1250 Val Loss: 320843.3125\n",
      "Training done! Validation commencing...\n",
      "Epoch [13/15] Train Loss: 258449.0312 Val Loss: 287891.5000\n",
      "Training done! Validation commencing...\n",
      "Epoch [14/15] Train Loss: 246355.2500 Val Loss: 254695.5625\n",
      "Training done! Validation commencing...\n",
      "Epoch [15/15] Train Loss: 210707.8594 Val Loss: 221481.4375\n"
     ]
    }
   ],
   "source": [
    "# Create Neural Network model\n",
    "model = HDBPricePredictor2().to(device)\n",
    "\n",
    "# Gradient descent parameters: optimizers, repetitions, etc.\n",
    "num_epochs = 15\n",
    "optimizer = torch.optim.Adam(model.parameters(), \n",
    "                           lr=0.01,\n",
    "                           betas=(0.9, 0.999),\n",
    "                           eps=1e-08,\n",
    "                           weight_decay=0.001)\n",
    "optimizer.zero_grad()\n",
    "\n",
    "train_losses = []\n",
    "val_losses = []\n",
    "\n",
    "for epoch in range(num_epochs):\n",
    "    # Training loop\n",
    "    model.train()\n",
    "    # Create lists for the epoch's train accuracies\n",
    "    batch_train_losses = []\n",
    "    batch_validation_losses = []\n",
    "    for batch in train_loader:\n",
    "        # Unpack the mini-batch data\n",
    "        inputs_batch, outputs_batch = batch\n",
    "        outputs_re = outputs_batch.to(device).reshape(-1, 1)\n",
    "        inputs_re = inputs_batch.to(device)\n",
    "        \n",
    "        # Forward pass\n",
    "        pred = model(inputs_re)\n",
    "        loss_value = model.loss(pred.float(), outputs_re.float())\n",
    "    \n",
    "        # Backward pass and optimization\n",
    "        loss_value.backward()\n",
    "        optimizer.step()\n",
    "        optimizer.zero_grad()\n",
    "        \n",
    "        batch_train_losses.append(loss_value.item())\n",
    "    train_losses.append(sum(batch_train_losses)/len(batch_train_losses))\n",
    "    # Validation loop\n",
    "    model.eval()\n",
    "    \n",
    "    print(\"Training done! Validation commencing...\")\n",
    "    with torch.no_grad():\n",
    "        for batch in valid_loader:\n",
    "            inputs_batch, outputs_batch = batch\n",
    "            outputs_re = outputs_batch.to(device).reshape(-1, 1)\n",
    "            inputs_re = inputs_batch.to(device)\n",
    "            \n",
    "            pred = model(inputs_re)\n",
    "            val_loss = model.loss(pred.float(), outputs_re.float())\n",
    "            \n",
    "            batch_validation_losses.append(val_loss.item())\n",
    "        val_losses.append(sum(batch_validation_losses)/len(batch_validation_losses))\n",
    "    \n",
    "    print(f'Epoch [{epoch+1}/{num_epochs}]', f'Train Loss: {loss_value.item():.4f}',f'Val Loss: {val_loss.item():.4f}')\n",
    "    \n",
    "    # Save the model weights for each epoch\n",
    "    torch.save(model.state_dict(), f'nn_baseline_weights/model2_weights_epoch_{epoch+1}.pth')"
   ]
  },
  {
   "cell_type": "markdown",
   "metadata": {},
   "source": [
    "## Evaluating BM_nn2"
   ]
  },
  {
   "cell_type": "code",
   "execution_count": 114,
   "metadata": {},
   "outputs": [
    {
     "name": "stdout",
     "output_type": "stream",
     "text": [
      "Test Loss: 220175.0961\n"
     ]
    }
   ],
   "source": [
    "# Load the best model weights from the best performing epoch and test them\n",
    "model = HDBPricePredictor2().to(device)\n",
    "model.load_state_dict(torch.load('nn_baseline_weights/model2_weights_epoch_15.pth', weights_only=True))\n",
    "# Set model to evaluation mode\n",
    "model.eval()\n",
    "\n",
    "# Evaluate on test set\n",
    "test_losses = []\n",
    "\n",
    "with torch.no_grad():\n",
    "    for batch in test_loader:\n",
    "        # Unpack test batch\n",
    "        inputs_batch, outputs_batch = batch\n",
    "        outputs_re = outputs_batch.to(device).reshape(-1, 1)\n",
    "        inputs_re = inputs_batch.to(device)\n",
    "        \n",
    "        # Forward pass\n",
    "        test_pred = model(inputs_re)\n",
    "        test_loss = model.loss(test_pred.float(), outputs_re.float())\n",
    "        \n",
    "        test_losses.append(test_loss.item())\n",
    "\n",
    "# Calculate average test metrics\n",
    "avg_test_loss = sum(test_losses) / len(test_losses)\n",
    "\n",
    "print(f'Test Loss: {avg_test_loss:.4f}')"
   ]
  },
  {
   "cell_type": "code",
   "execution_count": 115,
   "metadata": {},
   "outputs": [
    {
     "name": "stdout",
     "output_type": "stream",
     "text": [
      "Actual Resale Price: 875,000.00\n",
      "Predicted Resale Price: 255,628.47\n"
     ]
    }
   ],
   "source": [
    "# Select an index (e.g., the first sample)\n",
    "sample_idx = 380 # Adjust this number to see the result for different samples\n",
    "sample_features, sample_target = test_dataset[sample_idx]\n",
    "sample_features = sample_features.to(device).unsqueeze(0)  # Add batch dimension (1, num_features)\n",
    "# Set model to evaluation mode\n",
    "model.eval()\n",
    "\n",
    "# Perform inference\n",
    "with torch.no_grad():\n",
    "    predicted_price = model(sample_features).item()  # Convert tensor to scalar\n",
    "\n",
    "print(f\"Actual Resale Price: {sample_target.item():,.2f}\")\n",
    "print(f\"Predicted Resale Price: {predicted_price:,.2f}\")\n"
   ]
  },
  {
   "cell_type": "markdown",
   "metadata": {},
   "source": [
    "# Baseline Model 3 (BM_nn3)"
   ]
  },
  {
   "cell_type": "markdown",
   "metadata": {},
   "source": [
    "## Creating BM_nn3"
   ]
  },
  {
   "cell_type": "code",
   "execution_count": 118,
   "metadata": {},
   "outputs": [],
   "source": [
    "# New model to train\n",
    "\n",
    "class HDBPricePredictor3(nn.Module):\n",
    "    def __init__(self):\n",
    "        super().__init__()\n",
    "        self.input = nn.Linear(52, 512)  # Increased neurons for better feature extraction\n",
    "        self.hidden0 = nn.Linear(512,256)\n",
    "        self.hidden1 = nn.Linear(256, 128)\n",
    "        self.hidden2 = nn.Linear(128, 64)\n",
    "        self.fc = nn.Linear(64, 1)\n",
    "\n",
    "        # Activation functions\n",
    "        self.activation = nn.LeakyReLU(0.01)  # More stable than ReLU\n",
    "\n",
    "        # Normalization & Dropout\n",
    "        self.bn0 = nn.BatchNorm1d(512)\n",
    "        self.bn1 = nn.BatchNorm1d(256)\n",
    "        self.bn2 = nn.BatchNorm1d(128)\n",
    "        self.bn3 = nn.BatchNorm1d(64)\n",
    "\n",
    "        self.dropout = nn.Dropout(0.05)  # Light dropout\n",
    "\n",
    "        # Use Huber Loss instead of MSE\n",
    "        self.loss = nn.MSELoss()\n",
    "\n",
    "        # Initialize weights\n",
    "        self._init_weights()\n",
    "\n",
    "    def forward(self, x):\n",
    "        x = self.input(x)\n",
    "\n",
    "        x = self.hidden0(x)\n",
    "        x = self.bn1(x)\n",
    "        x = self.activation(x)\n",
    "\n",
    "        x = self.hidden1(x)\n",
    "        x = self.bn2(x)\n",
    "        x = self.activation(x)\n",
    "        x = self.dropout(x)\n",
    "\n",
    "        x = self.hidden2(x)\n",
    "        x = self.bn3(x)\n",
    "        x = self.activation(x)\n",
    "\n",
    "        x = self.fc(x)\n",
    "        return x\n",
    "\n",
    "    def _init_weights(self):\n",
    "        for layer in [self.input, self.hidden1, self.hidden2, self.fc]:\n",
    "            nn.init.kaiming_normal_(layer.weight, nonlinearity='leaky_relu')\n",
    "            nn.init.constant_(layer.bias, 0)\n"
   ]
  },
  {
   "cell_type": "markdown",
   "metadata": {},
   "source": [
    "## Training BM_nn3"
   ]
  },
  {
   "cell_type": "code",
   "execution_count": 119,
   "metadata": {},
   "outputs": [
    {
     "name": "stdout",
     "output_type": "stream",
     "text": [
      "Training done! Validation commencing...\n",
      "Epoch [1/15] Train Loss: 291567763456.0000 Val Loss: 316220833792.0000\n",
      "Training done! Validation commencing...\n",
      "Epoch [2/15] Train Loss: 290183184384.0000 Val Loss: 314332905472.0000\n",
      "Training done! Validation commencing...\n",
      "Epoch [3/15] Train Loss: 279852744704.0000 Val Loss: 311458922496.0000\n",
      "Training done! Validation commencing...\n",
      "Epoch [4/15] Train Loss: 294081626112.0000 Val Loss: 307252854784.0000\n",
      "Training done! Validation commencing...\n",
      "Epoch [5/15] Train Loss: 290839658496.0000 Val Loss: 302610841600.0000\n",
      "Training done! Validation commencing...\n",
      "Epoch [6/15] Train Loss: 298546036736.0000 Val Loss: 295791001600.0000\n",
      "Training done! Validation commencing...\n",
      "Epoch [7/15] Train Loss: 274783191040.0000 Val Loss: 289568292864.0000\n",
      "Training done! Validation commencing...\n",
      "Epoch [8/15] Train Loss: 272861347840.0000 Val Loss: 278879436800.0000\n",
      "Training done! Validation commencing...\n",
      "Epoch [9/15] Train Loss: 262987694080.0000 Val Loss: 275861798912.0000\n",
      "Training done! Validation commencing...\n",
      "Epoch [10/15] Train Loss: 269977763840.0000 Val Loss: 271527772160.0000\n",
      "Training done! Validation commencing...\n",
      "Epoch [11/15] Train Loss: 230325387264.0000 Val Loss: 259454664704.0000\n",
      "Training done! Validation commencing...\n",
      "Epoch [12/15] Train Loss: 225967816704.0000 Val Loss: 252040855552.0000\n",
      "Training done! Validation commencing...\n",
      "Epoch [13/15] Train Loss: 230864945152.0000 Val Loss: 243000360960.0000\n",
      "Training done! Validation commencing...\n",
      "Epoch [14/15] Train Loss: 215317102592.0000 Val Loss: 237272662016.0000\n",
      "Training done! Validation commencing...\n",
      "Epoch [15/15] Train Loss: 215300571136.0000 Val Loss: 233090547712.0000\n"
     ]
    }
   ],
   "source": [
    "# Create Neural Network model\n",
    "model = HDBPricePredictor3().to(device)\n",
    "\n",
    "# Gradient descent parameters: optimizers, repetitions, etc.\n",
    "num_epochs = 15\n",
    "optimizer = torch.optim.Adam(model.parameters(), \n",
    "                           lr=0.005,\n",
    "                           betas=(0.9, 0.999),\n",
    "                           eps=1e-08,\n",
    "                           weight_decay=0.001)\n",
    "optimizer.zero_grad()\n",
    "\n",
    "train_losses = []\n",
    "val_losses = []\n",
    "\n",
    "for epoch in range(num_epochs):\n",
    "    # Training loop\n",
    "    model.train()\n",
    "    # Create lists for the epoch's train accuracies\n",
    "    batch_train_losses = []\n",
    "    batch_validation_losses = []\n",
    "    for batch in train_loader:\n",
    "        # Unpack the mini-batch data\n",
    "        inputs_batch, outputs_batch = batch\n",
    "        outputs_re = outputs_batch.to(device).reshape(-1, 1)\n",
    "        inputs_re = inputs_batch.to(device)\n",
    "        \n",
    "        # Forward pass\n",
    "        pred = model(inputs_re)\n",
    "        loss_value = model.loss(pred.float(), outputs_re.float())\n",
    "    \n",
    "        # Backward pass and optimization\n",
    "        loss_value.backward()\n",
    "        optimizer.step()\n",
    "        optimizer.zero_grad()\n",
    "        \n",
    "        batch_train_losses.append(loss_value.item())\n",
    "    train_losses.append(sum(batch_train_losses)/len(batch_train_losses))\n",
    "    # Validation loop\n",
    "    model.eval()\n",
    "    \n",
    "    print(\"Training done! Validation commencing...\")\n",
    "    with torch.no_grad():\n",
    "        for batch in valid_loader:\n",
    "            inputs_batch, outputs_batch = batch\n",
    "            outputs_re = outputs_batch.to(device).reshape(-1, 1)\n",
    "            inputs_re = inputs_batch.to(device)\n",
    "            \n",
    "            pred = model(inputs_re)\n",
    "            val_loss = model.loss(pred.float(), outputs_re.float())\n",
    "            \n",
    "            batch_validation_losses.append(val_loss.item())\n",
    "        val_losses.append(sum(batch_validation_losses)/len(batch_validation_losses))\n",
    "    \n",
    "    print(f'Epoch [{epoch+1}/{num_epochs}]', f'Train Loss: {loss_value.item():.4f}',f'Val Loss: {val_loss.item():.4f}')\n",
    "    \n",
    "    # Save the model weights for each epoch\n",
    "    torch.save(model.state_dict(), f'nn_baseline_weights/model3_weights_epoch_{epoch+1}.pth')"
   ]
  },
  {
   "cell_type": "markdown",
   "metadata": {},
   "source": [
    "## Evaluating BM_nn3"
   ]
  },
  {
   "cell_type": "code",
   "execution_count": 102,
   "metadata": {},
   "outputs": [
    {
     "name": "stdout",
     "output_type": "stream",
     "text": [
      "Test Loss: 204991929548.8000\n"
     ]
    }
   ],
   "source": [
    "# Load the best model weights from the best performing epoch and test them\n",
    "model = HDBPricePredictor3().to(device)\n",
    "model.load_state_dict(torch.load('nn_baseline_weights/model3_weights_epoch_7.pth', weights_only=True))\n",
    "# Set model to evaluation mode\n",
    "model.eval()\n",
    "\n",
    "# Evaluate on test set\n",
    "test_losses = []\n",
    "\n",
    "with torch.no_grad():\n",
    "    for batch in test_loader:\n",
    "        # Unpack test batch\n",
    "        inputs_batch, outputs_batch = batch\n",
    "        outputs_re = outputs_batch.to(device).reshape(-1, 1)\n",
    "        inputs_re = inputs_batch.to(device)\n",
    "        \n",
    "        # Forward pass\n",
    "        test_pred = model(inputs_re)\n",
    "        test_loss = model.loss(test_pred.float(), outputs_re.float())\n",
    "        \n",
    "        test_losses.append(test_loss.item())\n",
    "\n",
    "# Calculate average test metrics\n",
    "avg_test_loss = sum(test_losses) / len(test_losses)\n",
    "\n",
    "print(f'Test Loss: {avg_test_loss:.4f}')"
   ]
  },
  {
   "cell_type": "code",
   "execution_count": 103,
   "metadata": {},
   "outputs": [
    {
     "name": "stdout",
     "output_type": "stream",
     "text": [
      "Actual Resale Price: 360,000.00\n",
      "Predicted Resale Price: -367.67\n"
     ]
    }
   ],
   "source": [
    "# Select an index (e.g., the first sample)\n",
    "sample_idx = 397 # Adjust this number to see the result for different samples\n",
    "sample_features, sample_target = test_dataset[sample_idx]\n",
    "sample_features = sample_features.to(device).unsqueeze(0)  # Add batch dimension (1, num_features)\n",
    "# Set model to evaluation mode\n",
    "model.eval()\n",
    "\n",
    "# Perform inference\n",
    "with torch.no_grad():\n",
    "    predicted_price = model(sample_features).item()  # Convert tensor to scalar\n",
    "\n",
    "print(f\"Actual Resale Price: {sample_target.item():,.2f}\")\n",
    "print(f\"Predicted Resale Price: {predicted_price:,.2f}\")"
   ]
  },
  {
   "cell_type": "code",
   "execution_count": null,
   "metadata": {},
   "outputs": [],
   "source": []
  }
 ],
 "metadata": {
  "kernelspec": {
   "display_name": "Python 3",
   "language": "python",
   "name": "python3"
  },
  "language_info": {
   "codemirror_mode": {
    "name": "ipython",
    "version": 3
   },
   "file_extension": ".py",
   "mimetype": "text/x-python",
   "name": "python",
   "nbconvert_exporter": "python",
   "pygments_lexer": "ipython3",
   "version": "3.13.1"
  }
 },
 "nbformat": 4,
 "nbformat_minor": 2
}
