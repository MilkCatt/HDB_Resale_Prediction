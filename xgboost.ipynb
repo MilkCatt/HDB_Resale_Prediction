{
 "cells": [
  {
   "cell_type": "code",
   "execution_count": 1,
   "metadata": {},
   "outputs": [],
   "source": [
    "#Import Libraries\n",
    "import pandas as pd\n",
    "import numpy as np\n",
    "import matplotlib.pyplot as plt\n",
    "from sklearn.model_selection import train_test_split\n",
    "from sklearn.tree import DecisionTreeRegressor, plot_tree\n",
    "from sklearn.ensemble import RandomForestRegressor\n",
    "from sklearn.metrics import mean_absolute_error, r2_score\n",
    "from sklearn.model_selection import RandomizedSearchCV\n",
    "from sklearn.metrics import mean_squared_error\n",
    "\n"
   ]
  },
  {
   "cell_type": "markdown",
   "metadata": {},
   "source": [
    "Prepare data"
   ]
  },
  {
   "cell_type": "code",
   "execution_count": 3,
   "metadata": {},
   "outputs": [],
   "source": [
    "#Load Data\n",
    "df = pd.read_csv('data/data_macro_clean.csv')\n",
    "\n",
    "#Prepare Features and Target\n",
    "X = df.drop('resale_price', axis=1)\n",
    "y = df['resale_price']\n",
    "\n",
    "#Split Data into Training and Test Sets\n",
    "X_train, X_test, y_train, y_test = train_test_split(\n",
    "    X, y, test_size=0.2, random_state=42\n",
    ")\n",
    "\n"
   ]
  },
  {
   "cell_type": "code",
   "execution_count": 4,
   "metadata": {},
   "outputs": [
    {
     "name": "stdout",
     "output_type": "stream",
     "text": [
      "(196325, 59)\n"
     ]
    }
   ],
   "source": [
    "print(df.shape)"
   ]
  },
  {
   "cell_type": "code",
   "execution_count": 5,
   "metadata": {},
   "outputs": [],
   "source": [
    "# Convert the 'date' column to numeric format (e.g., timestamp)\n",
    "X_train['date'] = pd.to_datetime(X_train['date']).astype(int) / 10**9\n",
    "X_test['date'] = pd.to_datetime(X_test['date']).astype(int) / 10**9"
   ]
  },
  {
   "cell_type": "markdown",
   "metadata": {},
   "source": [
    "### Random Search for decision tree (Hyperparameter Tuning)"
   ]
  },
  {
   "cell_type": "markdown",
   "metadata": {},
   "source": [
    "# xgboost"
   ]
  },
  {
   "cell_type": "code",
   "execution_count": 6,
   "metadata": {},
   "outputs": [],
   "source": [
    "from xgboost import XGBRegressor\n",
    "from sklearn.ensemble import AdaBoostRegressor\n",
    "from sklearn.metrics import mean_squared_error, r2_score\n",
    "from sklearn.model_selection import GridSearchCV\n",
    "import pandas as pd\n",
    "from sklearn.metrics import mean_absolute_error"
   ]
  },
  {
   "cell_type": "code",
   "execution_count": 7,
   "metadata": {},
   "outputs": [
    {
     "name": "stdout",
     "output_type": "stream",
     "text": [
      "Fitting 5 folds for each of 50 candidates, totalling 250 fits\n"
     ]
    },
    {
     "name": "stderr",
     "output_type": "stream",
     "text": [
      "c:\\Users\\wennn\\.julia\\conda\\3\\lib\\site-packages\\sklearn\\model_selection\\_validation.py:528: FitFailedWarning: \n",
      "9 fits failed out of a total of 250.\n",
      "The score on these train-test partitions for these parameters will be set to nan.\n",
      "If these failures are not expected, you can try to debug them by setting error_score='raise'.\n",
      "\n",
      "Below are more details about the failures:\n",
      "--------------------------------------------------------------------------------\n",
      "6 fits failed with the following error:\n",
      "Traceback (most recent call last):\n",
      "  File \"c:\\Users\\wennn\\.julia\\conda\\3\\lib\\site-packages\\sklearn\\model_selection\\_validation.py\", line 866, in _fit_and_score\n",
      "    estimator.fit(X_train, y_train, **fit_params)\n",
      "  File \"c:\\Users\\wennn\\.julia\\conda\\3\\lib\\site-packages\\xgboost\\core.py\", line 729, in inner_f\n",
      "    return func(**kwargs)\n",
      "  File \"c:\\Users\\wennn\\.julia\\conda\\3\\lib\\site-packages\\xgboost\\sklearn.py\", line 1222, in fit\n",
      "    train_dmatrix, evals = _wrap_evaluation_matrices(\n",
      "  File \"c:\\Users\\wennn\\.julia\\conda\\3\\lib\\site-packages\\xgboost\\sklearn.py\", line 628, in _wrap_evaluation_matrices\n",
      "    train_dmatrix = create_dmatrix(\n",
      "  File \"c:\\Users\\wennn\\.julia\\conda\\3\\lib\\site-packages\\xgboost\\sklearn.py\", line 1137, in _create_dmatrix\n",
      "    return QuantileDMatrix(\n",
      "  File \"c:\\Users\\wennn\\.julia\\conda\\3\\lib\\site-packages\\xgboost\\core.py\", line 729, in inner_f\n",
      "    return func(**kwargs)\n",
      "  File \"c:\\Users\\wennn\\.julia\\conda\\3\\lib\\site-packages\\xgboost\\core.py\", line 1614, in __init__\n",
      "    self._init(\n",
      "  File \"c:\\Users\\wennn\\.julia\\conda\\3\\lib\\site-packages\\xgboost\\core.py\", line 1678, in _init\n",
      "    it.reraise()\n",
      "  File \"c:\\Users\\wennn\\.julia\\conda\\3\\lib\\site-packages\\xgboost\\core.py\", line 572, in reraise\n",
      "    raise exc  # pylint: disable=raising-bad-type\n",
      "  File \"c:\\Users\\wennn\\.julia\\conda\\3\\lib\\site-packages\\xgboost\\core.py\", line 553, in _handle_exception\n",
      "    return fn()\n",
      "  File \"c:\\Users\\wennn\\.julia\\conda\\3\\lib\\site-packages\\xgboost\\core.py\", line 640, in <lambda>\n",
      "    return self._handle_exception(lambda: int(self.next(input_data)), 0)\n",
      "  File \"c:\\Users\\wennn\\.julia\\conda\\3\\lib\\site-packages\\xgboost\\data.py\", line 1654, in next\n",
      "    input_data(**self.kwargs)\n",
      "  File \"c:\\Users\\wennn\\.julia\\conda\\3\\lib\\site-packages\\xgboost\\core.py\", line 729, in inner_f\n",
      "    return func(**kwargs)\n",
      "  File \"c:\\Users\\wennn\\.julia\\conda\\3\\lib\\site-packages\\xgboost\\core.py\", line 629, in input_data\n",
      "    self.proxy.set_info(\n",
      "  File \"c:\\Users\\wennn\\.julia\\conda\\3\\lib\\site-packages\\xgboost\\core.py\", line 729, in inner_f\n",
      "    return func(**kwargs)\n",
      "  File \"c:\\Users\\wennn\\.julia\\conda\\3\\lib\\site-packages\\xgboost\\core.py\", line 961, in set_info\n",
      "    self.set_label(label)\n",
      "  File \"c:\\Users\\wennn\\.julia\\conda\\3\\lib\\site-packages\\xgboost\\core.py\", line 1099, in set_label\n",
      "    dispatch_meta_backend(self, label, \"label\", \"float\")\n",
      "  File \"c:\\Users\\wennn\\.julia\\conda\\3\\lib\\site-packages\\xgboost\\data.py\", line 1603, in dispatch_meta_backend\n",
      "    _meta_from_pandas_series(data, name, dtype, handle)\n",
      "  File \"c:\\Users\\wennn\\.julia\\conda\\3\\lib\\site-packages\\xgboost\\data.py\", line 713, in _meta_from_pandas_series\n",
      "    _meta_from_numpy(data, name, dtype, handle)\n",
      "  File \"c:\\Users\\wennn\\.julia\\conda\\3\\lib\\site-packages\\xgboost\\data.py\", line 1533, in _meta_from_numpy\n",
      "    _check_call(_LIB.XGDMatrixSetInfoFromInterface(handle, c_str(field), interface_str))\n",
      "  File \"c:\\Users\\wennn\\.julia\\conda\\3\\lib\\site-packages\\xgboost\\core.py\", line 310, in _check_call\n",
      "    raise XGBoostError(py_str(_LIB.XGBGetLastError()))\n",
      "xgboost.core.XGBoostError: [07:58:27] C:\\actions-runner\\_work\\xgboost\\xgboost\\src\\data\\array_interface.cu:44: Check failed: err == cudaGetLastError() (0 vs. 46) : \n",
      "\n",
      "--------------------------------------------------------------------------------\n",
      "2 fits failed with the following error:\n",
      "Traceback (most recent call last):\n",
      "  File \"c:\\Users\\wennn\\.julia\\conda\\3\\lib\\site-packages\\sklearn\\model_selection\\_validation.py\", line 866, in _fit_and_score\n",
      "    estimator.fit(X_train, y_train, **fit_params)\n",
      "  File \"c:\\Users\\wennn\\.julia\\conda\\3\\lib\\site-packages\\xgboost\\core.py\", line 729, in inner_f\n",
      "    return func(**kwargs)\n",
      "  File \"c:\\Users\\wennn\\.julia\\conda\\3\\lib\\site-packages\\xgboost\\sklearn.py\", line 1222, in fit\n",
      "    train_dmatrix, evals = _wrap_evaluation_matrices(\n",
      "  File \"c:\\Users\\wennn\\.julia\\conda\\3\\lib\\site-packages\\xgboost\\sklearn.py\", line 628, in _wrap_evaluation_matrices\n",
      "    train_dmatrix = create_dmatrix(\n",
      "  File \"c:\\Users\\wennn\\.julia\\conda\\3\\lib\\site-packages\\xgboost\\sklearn.py\", line 1137, in _create_dmatrix\n",
      "    return QuantileDMatrix(\n",
      "  File \"c:\\Users\\wennn\\.julia\\conda\\3\\lib\\site-packages\\xgboost\\core.py\", line 729, in inner_f\n",
      "    return func(**kwargs)\n",
      "  File \"c:\\Users\\wennn\\.julia\\conda\\3\\lib\\site-packages\\xgboost\\core.py\", line 1614, in __init__\n",
      "    self._init(\n",
      "  File \"c:\\Users\\wennn\\.julia\\conda\\3\\lib\\site-packages\\xgboost\\core.py\", line 1678, in _init\n",
      "    it.reraise()\n",
      "  File \"c:\\Users\\wennn\\.julia\\conda\\3\\lib\\site-packages\\xgboost\\core.py\", line 572, in reraise\n",
      "    raise exc  # pylint: disable=raising-bad-type\n",
      "  File \"c:\\Users\\wennn\\.julia\\conda\\3\\lib\\site-packages\\xgboost\\core.py\", line 553, in _handle_exception\n",
      "    return fn()\n",
      "  File \"c:\\Users\\wennn\\.julia\\conda\\3\\lib\\site-packages\\xgboost\\core.py\", line 640, in <lambda>\n",
      "    return self._handle_exception(lambda: int(self.next(input_data)), 0)\n",
      "  File \"c:\\Users\\wennn\\.julia\\conda\\3\\lib\\site-packages\\xgboost\\data.py\", line 1654, in next\n",
      "    input_data(**self.kwargs)\n",
      "  File \"c:\\Users\\wennn\\.julia\\conda\\3\\lib\\site-packages\\xgboost\\core.py\", line 729, in inner_f\n",
      "    return func(**kwargs)\n",
      "  File \"c:\\Users\\wennn\\.julia\\conda\\3\\lib\\site-packages\\xgboost\\core.py\", line 629, in input_data\n",
      "    self.proxy.set_info(\n",
      "  File \"c:\\Users\\wennn\\.julia\\conda\\3\\lib\\site-packages\\xgboost\\core.py\", line 729, in inner_f\n",
      "    return func(**kwargs)\n",
      "  File \"c:\\Users\\wennn\\.julia\\conda\\3\\lib\\site-packages\\xgboost\\core.py\", line 961, in set_info\n",
      "    self.set_label(label)\n",
      "  File \"c:\\Users\\wennn\\.julia\\conda\\3\\lib\\site-packages\\xgboost\\core.py\", line 1099, in set_label\n",
      "    dispatch_meta_backend(self, label, \"label\", \"float\")\n",
      "  File \"c:\\Users\\wennn\\.julia\\conda\\3\\lib\\site-packages\\xgboost\\data.py\", line 1603, in dispatch_meta_backend\n",
      "    _meta_from_pandas_series(data, name, dtype, handle)\n",
      "  File \"c:\\Users\\wennn\\.julia\\conda\\3\\lib\\site-packages\\xgboost\\data.py\", line 713, in _meta_from_pandas_series\n",
      "    _meta_from_numpy(data, name, dtype, handle)\n",
      "  File \"c:\\Users\\wennn\\.julia\\conda\\3\\lib\\site-packages\\xgboost\\data.py\", line 1533, in _meta_from_numpy\n",
      "    _check_call(_LIB.XGDMatrixSetInfoFromInterface(handle, c_str(field), interface_str))\n",
      "  File \"c:\\Users\\wennn\\.julia\\conda\\3\\lib\\site-packages\\xgboost\\core.py\", line 310, in _check_call\n",
      "    raise XGBoostError(py_str(_LIB.XGBGetLastError()))\n",
      "xgboost.core.XGBoostError: [07:58:28] C:\\actions-runner\\_work\\xgboost\\xgboost\\src\\data\\array_interface.cu:44: Check failed: err == cudaGetLastError() (0 vs. 46) : \n",
      "\n",
      "--------------------------------------------------------------------------------\n",
      "1 fits failed with the following error:\n",
      "Traceback (most recent call last):\n",
      "  File \"c:\\Users\\wennn\\.julia\\conda\\3\\lib\\site-packages\\sklearn\\model_selection\\_validation.py\", line 866, in _fit_and_score\n",
      "    estimator.fit(X_train, y_train, **fit_params)\n",
      "  File \"c:\\Users\\wennn\\.julia\\conda\\3\\lib\\site-packages\\xgboost\\core.py\", line 729, in inner_f\n",
      "    return func(**kwargs)\n",
      "  File \"c:\\Users\\wennn\\.julia\\conda\\3\\lib\\site-packages\\xgboost\\sklearn.py\", line 1222, in fit\n",
      "    train_dmatrix, evals = _wrap_evaluation_matrices(\n",
      "  File \"c:\\Users\\wennn\\.julia\\conda\\3\\lib\\site-packages\\xgboost\\sklearn.py\", line 628, in _wrap_evaluation_matrices\n",
      "    train_dmatrix = create_dmatrix(\n",
      "  File \"c:\\Users\\wennn\\.julia\\conda\\3\\lib\\site-packages\\xgboost\\sklearn.py\", line 1137, in _create_dmatrix\n",
      "    return QuantileDMatrix(\n",
      "  File \"c:\\Users\\wennn\\.julia\\conda\\3\\lib\\site-packages\\xgboost\\core.py\", line 729, in inner_f\n",
      "    return func(**kwargs)\n",
      "  File \"c:\\Users\\wennn\\.julia\\conda\\3\\lib\\site-packages\\xgboost\\core.py\", line 1614, in __init__\n",
      "    self._init(\n",
      "  File \"c:\\Users\\wennn\\.julia\\conda\\3\\lib\\site-packages\\xgboost\\core.py\", line 1678, in _init\n",
      "    it.reraise()\n",
      "  File \"c:\\Users\\wennn\\.julia\\conda\\3\\lib\\site-packages\\xgboost\\core.py\", line 572, in reraise\n",
      "    raise exc  # pylint: disable=raising-bad-type\n",
      "  File \"c:\\Users\\wennn\\.julia\\conda\\3\\lib\\site-packages\\xgboost\\core.py\", line 553, in _handle_exception\n",
      "    return fn()\n",
      "  File \"c:\\Users\\wennn\\.julia\\conda\\3\\lib\\site-packages\\xgboost\\core.py\", line 640, in <lambda>\n",
      "    return self._handle_exception(lambda: int(self.next(input_data)), 0)\n",
      "  File \"c:\\Users\\wennn\\.julia\\conda\\3\\lib\\site-packages\\xgboost\\data.py\", line 1654, in next\n",
      "    input_data(**self.kwargs)\n",
      "  File \"c:\\Users\\wennn\\.julia\\conda\\3\\lib\\site-packages\\xgboost\\core.py\", line 729, in inner_f\n",
      "    return func(**kwargs)\n",
      "  File \"c:\\Users\\wennn\\.julia\\conda\\3\\lib\\site-packages\\xgboost\\core.py\", line 629, in input_data\n",
      "    self.proxy.set_info(\n",
      "  File \"c:\\Users\\wennn\\.julia\\conda\\3\\lib\\site-packages\\xgboost\\core.py\", line 729, in inner_f\n",
      "    return func(**kwargs)\n",
      "  File \"c:\\Users\\wennn\\.julia\\conda\\3\\lib\\site-packages\\xgboost\\core.py\", line 961, in set_info\n",
      "    self.set_label(label)\n",
      "  File \"c:\\Users\\wennn\\.julia\\conda\\3\\lib\\site-packages\\xgboost\\core.py\", line 1099, in set_label\n",
      "    dispatch_meta_backend(self, label, \"label\", \"float\")\n",
      "  File \"c:\\Users\\wennn\\.julia\\conda\\3\\lib\\site-packages\\xgboost\\data.py\", line 1603, in dispatch_meta_backend\n",
      "    _meta_from_pandas_series(data, name, dtype, handle)\n",
      "  File \"c:\\Users\\wennn\\.julia\\conda\\3\\lib\\site-packages\\xgboost\\data.py\", line 713, in _meta_from_pandas_series\n",
      "    _meta_from_numpy(data, name, dtype, handle)\n",
      "  File \"c:\\Users\\wennn\\.julia\\conda\\3\\lib\\site-packages\\xgboost\\data.py\", line 1533, in _meta_from_numpy\n",
      "    _check_call(_LIB.XGDMatrixSetInfoFromInterface(handle, c_str(field), interface_str))\n",
      "  File \"c:\\Users\\wennn\\.julia\\conda\\3\\lib\\site-packages\\xgboost\\core.py\", line 310, in _check_call\n",
      "    raise XGBoostError(py_str(_LIB.XGBGetLastError()))\n",
      "xgboost.core.XGBoostError: [07:58:30] C:\\actions-runner\\_work\\xgboost\\xgboost\\src\\data\\array_interface.cu:44: Check failed: err == cudaGetLastError() (0 vs. 46) : \n",
      "\n",
      "  warnings.warn(some_fits_failed_message, FitFailedWarning)\n",
      "c:\\Users\\wennn\\.julia\\conda\\3\\lib\\site-packages\\sklearn\\model_selection\\_search.py:1108: UserWarning: One or more of the test scores are non-finite: [             nan              nan              nan              nan\n",
      "              nan  -30885.61078437  -26616.45346373  -26485.3973626\n",
      "  -30559.0826603   -37403.0450066   -24352.87109411  -24427.50172046\n",
      "  -29873.65137929  -26010.46450598  -37833.51023956  -84729.6208062\n",
      "  -32422.99539084  -25162.10215296  -45676.52574653  -71059.51033357\n",
      "  -25078.07303759  -30901.30790546  -38498.39542326  -30452.38909112\n",
      "  -95799.21632909  -78618.37316246  -24892.28452125  -26258.59101125\n",
      "  -96333.91262907 -104168.88846221  -24739.61118702 -112383.69595783\n",
      "  -27984.90598152  -26287.21534394  -25956.25977538  -33621.65991389\n",
      "  -30396.46353177  -25376.21796742  -49006.06560736  -29174.34682829\n",
      "  -25379.36560061  -64923.53521226 -104175.99953203  -46098.25930032\n",
      "  -42054.64077217  -25377.07960627  -31531.46413011  -70997.71804439\n",
      "  -40956.31398884  -55942.21083483]\n",
      "  warnings.warn(\n"
     ]
    },
    {
     "name": "stdout",
     "output_type": "stream",
     "text": [
      "Best XGBoost Parameters: {'subsample': 0.8, 'n_estimators': 300, 'min_child_weight': 5, 'max_depth': 10, 'learning_rate': 0.2, 'gamma': 0.3, 'colsample_bytree': 0.8}\n"
     ]
    }
   ],
   "source": [
    "# Define the parameter distribution for XGBoost\n",
    "xgb_param_dist = {\n",
    "    'n_estimators': [50, 100, 200, 300],\n",
    "    'max_depth': [3, 5, 10, 15],\n",
    "    'learning_rate': [0.01, 0.1, 0.2, 0.3],\n",
    "    'subsample': [0.6, 0.8, 1.0],\n",
    "    'colsample_bytree': [0.6, 0.8, 1.0],\n",
    "    'gamma': [0, 0.1, 0.2, 0.3],\n",
    "    'min_child_weight': [1, 3, 5]\n",
    "}\n",
    "\n",
    "# Initialize RandomizedSearchCV for XGBoost\n",
    "xgb_search = RandomizedSearchCV(\n",
    "    estimator=XGBRegressor(random_state=42),\n",
    "    param_distributions=xgb_param_dist,\n",
    "    n_iter=50,\n",
    "    scoring='neg_mean_absolute_error',\n",
    "    cv=5,\n",
    "    n_jobs=-1,\n",
    "    verbose=2,\n",
    "    random_state=42\n",
    ")\n",
    "\n",
    "# Fit the random search on the training data\n",
    "xgb_search.fit(X_train, y_train)\n",
    "\n",
    "# Get the best parameters and the best model\n",
    "best_xgb_params = xgb_search.best_params_\n",
    "best_xgb_model = xgb_search.best_estimator_\n",
    "\n",
    "print(\"Best XGBoost Parameters:\", best_xgb_params)"
   ]
  },
  {
   "cell_type": "code",
   "execution_count": 8,
   "metadata": {},
   "outputs": [
    {
     "name": "stdout",
     "output_type": "stream",
     "text": [
      "\n",
      "XGBoost (Best Parameters) Performance:\n",
      "MSE: 1135239532.11\n",
      "MAE: 23448.26\n",
      "R²: 0.96\n"
     ]
    }
   ],
   "source": [
    "# Initialize the XGBoost model with the best parameters\n",
    "xgb_best_model = XGBRegressor(\n",
    "    subsample=1.0,\n",
    "    n_estimators=200,\n",
    "    min_child_weight=5,\n",
    "    max_depth=15,\n",
    "    learning_rate=0.1,\n",
    "    gamma=0.1,\n",
    "    colsample_bytree=0.6,\n",
    "    random_state=42\n",
    ")\n",
    "\n",
    "# Train the model on the training data\n",
    "xgb_best_model.fit(X_train, y_train)\n",
    "\n",
    "# Predict on the test data\n",
    "y_pred_xgb_best = xgb_best_model.predict(X_test)\n",
    "\n",
    "# Evaluate the model\n",
    "print('\\nXGBoost (Best Parameters) Performance:')\n",
    "print(f'MSE: {mean_squared_error(y_test, y_pred_xgb_best):.2f}')\n",
    "print(f'MAE: {mean_absolute_error(y_test, y_pred_xgb_best):.2f}')\n",
    "print(f'R²: {r2_score(y_test, y_pred_xgb_best):.2f}')"
   ]
  },
  {
   "cell_type": "code",
   "execution_count": 9,
   "metadata": {},
   "outputs": [
    {
     "data": {
      "text/plain": [
       "['xgb_best_model.pkl']"
      ]
     },
     "execution_count": 9,
     "metadata": {},
     "output_type": "execute_result"
    }
   ],
   "source": [
    "import joblib\n",
    "\n",
    "# Save the trained model\n",
    "joblib.dump(xgb_best_model, 'xgb_best_model.pkl')"
   ]
  },
  {
   "cell_type": "code",
   "execution_count": null,
   "metadata": {},
   "outputs": [
    {
     "name": "stdout",
     "output_type": "stream",
     "text": [
      "\n",
      "XGBoost Performance:\n",
      "MSE: 5945716388.22\n",
      "MAE: 52330.37\n",
      "R²: 0.81\n"
     ]
    }
   ],
   "source": [
    "# XGBoost Model (without hyperparameter tuning)\n",
    "xgb_model = XGBRegressor(n_estimators=100, random_state=42)\n",
    "xgb_model.fit(X_train, y_train)\n",
    "y_pred_xgb = xgb_model.predict(X_test)\n",
    "\n",
    "print('\\nXGBoost Performance:')\n",
    "\n",
    "print(f'MSE: {mean_squared_error(y_test, y_pred_xgb):.2f}')\n",
    "print(f'MAE: {mean_absolute_error(y_test, y_pred_xgb):.2f}')\n",
    "print(f'R²: {r2_score(y_test, y_pred_xgb):.2f}')"
   ]
  },
  {
   "cell_type": "code",
   "execution_count": null,
   "metadata": {},
   "outputs": [],
   "source": []
  }
 ],
 "metadata": {
  "kernelspec": {
   "display_name": "base",
   "language": "python",
   "name": "python3"
  },
  "language_info": {
   "codemirror_mode": {
    "name": "ipython",
    "version": 3
   },
   "file_extension": ".py",
   "mimetype": "text/x-python",
   "name": "python",
   "nbconvert_exporter": "python",
   "pygments_lexer": "ipython3",
   "version": "3.10.8"
  }
 },
 "nbformat": 4,
 "nbformat_minor": 2
}
